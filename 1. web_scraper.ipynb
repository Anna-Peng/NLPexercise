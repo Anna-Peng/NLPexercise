{
 "cells": [
  {
   "cell_type": "code",
   "execution_count": null,
   "metadata": {},
   "outputs": [],
   "source": [
    "import io\n",
    "import sys\n",
    "from bs4 import BeautifulSoup\n",
    "import requests\n",
    "import re"
   ]
  },
  {
   "cell_type": "code",
   "execution_count": null,
   "metadata": {},
   "outputs": [],
   "source": [
    "# this stops all the website url being printed when scraping multiple webpages\n",
    "text_trap = io.StringIO()\n",
    "sys.stdout = text_trap\n",
    "\n",
    "# This restore printing\n",
    "# sys.stdout = sys.__stdout__ "
   ]
  },
  {
   "cell_type": "markdown",
   "metadata": {},
   "source": [
    "## Change the site ID. \n",
    "### IMPORTANT!!\n",
    "### Please make sure that the [ Reviews{0} ] index is embedded in the site ID as the code scrapes multiple pages with the idx\n"
   ]
  },
  {
   "cell_type": "code",
   "execution_count": null,
   "metadata": {},
   "outputs": [],
   "source": [
    "site_id = 'https://www.tripadvisor.co.uk/Restaurant_Review-g186338-d2074022-Reviews{0}-The_Prince_of_Wales-London_England.html'"
   ]
  },
  {
   "cell_type": "markdown",
   "metadata": {},
   "source": [
    "### Functions to request url and access reviews with BeautifulSoup"
   ]
  },
  {
   "cell_type": "code",
   "execution_count": null,
   "metadata": {},
   "outputs": [],
   "source": [
    "results=list()\n",
    "no_response=False\n",
    "\n",
    "def get_url(current_url):\n",
    "    file = requests.get(current_url)\n",
    "    if file.status_code!=200:\n",
    "        print('no response')\n",
    "        no_respnse=True\n",
    "    \n",
    "    response = BeautifulSoup(file.text, 'html.parser')\n",
    "    return [response, no_response]\n",
    "\n",
    "def get_reviews(url, response):\n",
    "    print(url)\n",
    "    # get every review\n",
    "    for review in response.find_all('div', class_='review-container'):\n",
    "        \n",
    "        if review.find(class_='mgrRspnInline'): # take out manager's reply\n",
    "            continue\n",
    "        elif review.find('p', class_='partial_entry'):\n",
    "            append_content = review.find('p', class_='partial_entry').text\n",
    "            \n",
    "            if review.find(class_='bubble_50'):\n",
    "                rating='5'\n",
    "            elif review.find(class_='bubble_40'):\n",
    "                rating='4'\n",
    "            elif review.find(class_='bubble_30'):\n",
    "                rating='3'\n",
    "            elif review.find(class_='bubble_20'):\n",
    "                rating='2'\n",
    "            elif review.find(class_='bubble_10'):\n",
    "                rating='1'\n",
    "            \n",
    "        item = {'Restaurant_name': response.find('h1').text, # Restaurant name is outside of review-container\n",
    "            'review_title': review.find('span', class_='noQuotes').text,\n",
    "            'review_content': append_content,\n",
    "            'review_rating': rating}\n",
    "\n",
    "        results.append(item) # <--- add to global list\n"
   ]
  },
  {
   "cell_type": "markdown",
   "metadata": {},
   "source": [
    "### Scrape multiple pages (need to manually decide how many pages)"
   ]
  },
  {
   "cell_type": "code",
   "execution_count": null,
   "metadata": {},
   "outputs": [],
   "source": [
    "total_pg = 76\n",
    "for idx in range(0,total_pg):\n",
    "    s ='' if idx==0 else '-or{0}0'.format(idx)\n",
    "    site_idx = site_id.format(s)\n",
    "              \n",
    "    [response, no_response] = get_url(site_idx)\n",
    "    if no_response == False:\n",
    "        get_reviews(site_idx, response)\n",
    "    else:\n",
    "        break\n",
    "    "
   ]
  },
  {
   "cell_type": "markdown",
   "metadata": {},
   "source": [
    "### Save reviews"
   ]
  },
  {
   "cell_type": "code",
   "execution_count": null,
   "metadata": {},
   "outputs": [],
   "source": [
    "import pandas as pd\n",
    "\n",
    "df = pd.DataFrame(results)\n",
    "df.to_csv('{0}.csv'.format(df['Restaurant_name'][0]))  "
   ]
  }
 ],
 "metadata": {
  "kernelspec": {
   "display_name": "Python 3",
   "language": "python",
   "name": "python3"
  },
  "language_info": {
   "codemirror_mode": {
    "name": "ipython",
    "version": 3
   },
   "file_extension": ".py",
   "mimetype": "text/x-python",
   "name": "python",
   "nbconvert_exporter": "python",
   "pygments_lexer": "ipython3",
   "version": "3.7.4"
  }
 },
 "nbformat": 4,
 "nbformat_minor": 2
}
