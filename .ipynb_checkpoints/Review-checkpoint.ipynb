{
 "cells": [
  {
   "attachments": {},
   "cell_type": "markdown",
   "metadata": {},
   "source": [
    "Import request package that can communicate with web\n",
    "\n",
    "'Get' function to access info\n",
    "\n",
    "'Post' function to modify html info\n",
    "\n",
    "Import BeautifulSoup package that can parse html language\n",
    "\n",
    "Import regular expression package to parse sentence\n",
    "\n",
    "A successful retrieval should return response status code '200'\n",
    "\n",
    "https://www.restapitutorial.com/httpstatuscodes.html\n"
   ]
  },
  {
   "cell_type": "code",
   "execution_count": null,
   "metadata": {},
   "outputs": [],
   "source": [
    "from bs4 import BeautifulSoup\n",
    "import requests\n",
    "import re\n",
    "\n",
    "site_id=\"https://www.tripadvisor.co.uk/Restaurant_Review-g503775-d2519242-Reviews-The_Gurkha_Restaurant-Chelmsford_Essex_England.html\"\n",
    "response = requests.get(site_id)\n",
    "print(response.status_code)\n",
    "html = BeautifulSoup(response.text, 'html.parser')"
   ]
  },
  {
   "cell_type": "markdown",
   "metadata": {},
   "source": [
    "#### Determine the html tags by searching with sentence"
   ]
  },
  {
   "cell_type": "code",
   "execution_count": null,
   "metadata": {},
   "outputs": [],
   "source": [
    "header_parent = html.find(text='Never Fails to Impress').parent\n",
    "content_parent = html.find(text=re.compile(r\"Great service, great food, our favourite restaurant in Chelmsford. The welcome from the host is second to none, great atmosphere. Will be back soon.\")).parent#.parent.parent\n",
    "reply_parent = html.find(text=re.compile(r\"Thank you for taking the time\")).parent.parent.parent.parent\n",
    "print(header_parent) # Get parents for the text\n",
    "print(\"===================\")\n",
    "print(content_parent)\n",
    "print(\"===================\")\n",
    "print(reply_parent)"
   ]
  },
  {
   "cell_type": "code",
   "execution_count": null,
   "metadata": {},
   "outputs": [],
   "source": [
    "reviews_no = html.find('span', class_='reviews_header_count').text[1:-1] # return (1,XXX), remove () in string\n",
    "reviews_no = reviews_no.replace(',', '') # remove `,`\n",
    "reviews_no = int(reviews_no)\n",
    "print(reviews_no)"
   ]
  },
  {
   "cell_type": "code",
   "execution_count": null,
   "metadata": {},
   "outputs": [],
   "source": [
    "reviews_header=list()\n",
    "for header in html.find_all('span', class_='noQuotes'):\n",
    "    reviews_header.append(header.text)\n",
    "    \n",
    "for element in reviews_header:\n",
    "    print(element)\n",
    "    print(\"===================\")"
   ]
  },
  {
   "cell_type": "code",
   "execution_count": null,
   "metadata": {},
   "outputs": [],
   "source": [
    "reviews_content=list()\n",
    "\n",
    "for content in html.findAll('div', class_='review-container'):\n",
    "    if content.find(class_='mgrRspnInline'): # take out manager's reply\n",
    "        continue\n",
    "    elif content.find('p', class_='partial_entry'):\n",
    "        append_content = content.find('p', class_='partial_entry')\n",
    "        reviews_content.append(append_content.text)\n",
    "        \n",
    "\n",
    "for element in reviews_content:\n",
    "    print(element)\n",
    "    print(\"===================\")"
   ]
  },
  {
   "cell_type": "code",
   "execution_count": null,
   "metadata": {},
   "outputs": [],
   "source": [
    "reviews_header=list()\n",
    "reviews_rating=list()\n",
    "reviews_content=list()\n",
    "\n",
    "for review in html.find_all('div', class_='review-container'):\n",
    "    header=review.find('span', class_='noQuotes').text\n",
    "    reviews_header.append(header)\n",
    "    \n",
    "    if review.find(class_='mgrRspnInline'): # take out manager's reply\n",
    "        continue\n",
    "    elif review.find('p', class_='partial_entry'):\n",
    "        append_content = review.find('p', class_='partial_entry').text\n",
    "        reviews_content.append(append_content)\n",
    "        \n",
    "    if review.find(class_='bubble_50'):\n",
    "        rating='5'\n",
    "    elif review.find(class_='bubble_40'):\n",
    "        rating='4'\n",
    "    elif review.find(class_='bubble_30'):\n",
    "        rating='3'\n",
    "    elif review.find(class_='bubble_20'):\n",
    "        rating='2'\n",
    "    elif review.find(class_='bubble_10'):\n",
    "        rating='1'\n",
    "    reviews_rating.append(rating)\n",
    "    \n",
    "\n",
    "for element1, element2, element3 in zip(reviews_header, reviews_content, reviews_rating):\n",
    "    print(element1)\n",
    "    print(element2)\n",
    "    print(element3)\n",
    "    print(\"===================\")\n"
   ]
  },
  {
   "cell_type": "code",
   "execution_count": null,
   "metadata": {},
   "outputs": [],
   "source": [
    "from bs4 import BeautifulSoup\n",
    "import requests\n",
    "import re\n",
    "\n",
    "results=list()\n",
    "no_response=False\n",
    "\n",
    "def get_url(current_url):\n",
    "    file = requests.get(current_url)\n",
    "    if file.status_code!=200:\n",
    "        print('no response')\n",
    "        no_respnse=True\n",
    "    \n",
    "    response = BeautifulSoup(file.text, 'html.parser')\n",
    "    return [response, no_response]\n",
    "\n",
    "def get_reviews(url, response):\n",
    "    print(url)\n",
    "    # get every review\n",
    "    for review in response.find_all('div', class_='review-container'):\n",
    "        \n",
    "        if review.find(class_='mgrRspnInline'): # take out manager's reply\n",
    "            continue\n",
    "        elif review.find('p', class_='partial_entry'):\n",
    "            append_content = review.find('p', class_='partial_entry').text\n",
    "            \n",
    "            if review.find(class_='bubble_50'):\n",
    "                rating='5'\n",
    "            elif review.find(class_='bubble_40'):\n",
    "                rating='4'\n",
    "            elif review.find(class_='bubble_30'):\n",
    "                rating='3'\n",
    "            elif review.find(class_='bubble_20'):\n",
    "                rating='2'\n",
    "            elif review.find(class_='bubble_10'):\n",
    "                rating='1'\n",
    "            \n",
    "        item = {\n",
    "            'Restaurant_name': response.find('h1', class_='ui_header h1').text, # Restaurant name is outside of review-container\n",
    "            'review_title': review.find('span', class_='noQuotes').text,\n",
    "            'review_content': append_content,\n",
    "            'review_rating': rating\n",
    "        }\n",
    "\n",
    "        results.append(item) # <--- add to global list\n",
    "\n",
    "        #~ yield item\n",
    "        for key,val in item.items():\n",
    "            print(key, ':', val)\n",
    "        print('----')\n",
    "        # return for test only - to stop after first review\n",
    "        "
   ]
  },
  {
   "cell_type": "code",
   "execution_count": null,
   "metadata": {},
   "outputs": [],
   "source": [
    "for idx in range(0,109):\n",
    "    s='' if idx==0 else '-or{0}0'.format(idx)\n",
    "    site_id = \"https://www.tripadvisor.co.uk/Restaurant_Review-g186338-d5244301-Reviews{0}-The_Golden_Chippy-London_England.html\".format(s)\n",
    "    [response, no_response] = get_url(site_id)\n",
    "    if no_response == False:\n",
    "        get_reviews(site_id, response)\n",
    "    else:\n",
    "        break\n",
    "    \n",
    "import pandas as pd\n",
    "\n",
    "df = pd.DataFrame(results) # <--- convert list to DataFrame  "
   ]
  },
  {
   "cell_type": "code",
   "execution_count": null,
   "metadata": {},
   "outputs": [],
   "source": [
    "df.to_csv('{0}.csv'.format(df['Restaurant_name'][0]))  "
   ]
  },
  {
   "cell_type": "code",
   "execution_count": null,
   "metadata": {},
   "outputs": [],
   "source": []
  }
 ],
 "metadata": {
  "kernelspec": {
   "display_name": "Python 3",
   "language": "python",
   "name": "python3"
  },
  "language_info": {
   "codemirror_mode": {
    "name": "ipython",
    "version": 3
   },
   "file_extension": ".py",
   "mimetype": "text/x-python",
   "name": "python",
   "nbconvert_exporter": "python",
   "pygments_lexer": "ipython3",
   "version": "3.7.4"
  }
 },
 "nbformat": 4,
 "nbformat_minor": 2
}
