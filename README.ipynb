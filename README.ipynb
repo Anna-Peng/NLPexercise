{
 "cells": [
  {
   "cell_type": "markdown",
   "metadata": {},
   "source": [
    "## The scripts scrape Tripadvisor, get review ratings, review content, and make classifier\n",
    "\n",
    "### Step 1: Run 1. web_scraper first with the desired restaurant page\n",
    "\n",
    "### Step 2: Save the output to csv\n",
    "\n",
    "### Step 3: Run 2. reviewNLTK to either: <br> a) construct a new classifier using Naive Bayes with NLTK toolkit <br> b) load a classifier (saved as a pickle file) on a new review.csv file\n"
   ]
  },
  {
   "cell_type": "code",
   "execution_count": null,
   "metadata": {},
   "outputs": [],
   "source": []
  }
 ],
 "metadata": {
  "kernelspec": {
   "display_name": "Python 3",
   "language": "python",
   "name": "python3"
  },
  "language_info": {
   "codemirror_mode": {
    "name": "ipython",
    "version": 3
   },
   "file_extension": ".py",
   "mimetype": "text/x-python",
   "name": "python",
   "nbconvert_exporter": "python",
   "pygments_lexer": "ipython3",
   "version": "3.7.4"
  }
 },
 "nbformat": 4,
 "nbformat_minor": 2
}
