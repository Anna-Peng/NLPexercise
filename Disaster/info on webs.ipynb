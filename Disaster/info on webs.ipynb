{
 "cells": [
  {
   "cell_type": "markdown",
   "metadata": {},
   "source": [
    "Useful websites\n",
    "\n",
    "https://www.healthcheck.prontocreative.co.uk/\n",
    "\n",
    "https://deliveroo.co.uk/robots.txt\n",
    "\n",
    "https://www.ubereats.com/robots.txt\n",
    "\n",
    "https://www.just-eat.co.uk/robots.txt\n",
    "\n",
    "https://foodhub.co.uk/robots.txt"
   ]
  },
  {
   "cell_type": "markdown",
   "metadata": {},
   "source": [
    "https://deliveroo.co.uk/restaurants/london/the-city?fulfillment_method=DELIVERY&postcode=EC4R+3TE\n",
    "https://deliveroo.co.uk/restaurants/london/the-city"
   ]
  },
  {
   "cell_type": "markdown",
   "metadata": {},
   "source": [
    "url checks"
   ]
  },
  {
   "cell_type": "code",
   "execution_count": null,
   "metadata": {},
   "outputs": [],
   "source": []
  }
 ],
 "metadata": {
  "kernelspec": {
   "display_name": "Python 3",
   "language": "python",
   "name": "python3"
  },
  "language_info": {
   "codemirror_mode": {
    "name": "ipython",
    "version": 3
   },
   "file_extension": ".py",
   "mimetype": "text/x-python",
   "name": "python",
   "nbconvert_exporter": "python",
   "pygments_lexer": "ipython3",
   "version": "3.7.4"
  }
 },
 "nbformat": 4,
 "nbformat_minor": 4
}
